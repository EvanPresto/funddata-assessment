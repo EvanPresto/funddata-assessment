{
 "cells": [
  {
   "cell_type": "code",
   "execution_count": null,
   "metadata": {},
   "outputs": [],
   "source": [
    "\"# Start with space.\\n\",\n",
    "    \"pairs = ' '\\n\",\n",
    "    \"\\n\",\n",
    "    \"# Do the following N-1 times.\\n\",\n",
    "    \"for i in range(1, N):\\n\",\n",
    "    \"    # Get the weights where the previous character is the last character in twos.\\n\",\n",
    "    \"    wt = twoghts[pairs[-1]]\\n\",\n",
    "    \"    # Turn wt into a list, ordered by chars.\\n\",\n",
    "    \"    wt = [wt[c] for c in chars]\\n\",\n",
    "    \"    # Randomly pick the next character using those weights.\\n\",\n",
    "    \"    nextc = random.choices(chars, weights=wt, k=1)[0]\\n\",\n",
    "    \"    # Append the character to twos.\\n\",\n",
    "    \"    pairs = pairs + nextc\""
   ]
  }
 ],
 "metadata": {
  "kernelspec": {
   "display_name": "Python 3",
   "language": "python",
   "name": "python3"
  },
  "language_info": {
   "codemirror_mode": {
    "name": "ipython",
    "version": 3
   },
   "file_extension": ".py",
   "mimetype": "text/x-python",
   "name": "python",
   "nbconvert_exporter": "python",
   "pygments_lexer": "ipython3",
   "version": "3.8.5"
  }
 },
 "nbformat": 4,
 "nbformat_minor": 4
}
